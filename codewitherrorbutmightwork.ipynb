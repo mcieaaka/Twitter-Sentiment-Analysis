{
 "cells": [
  {
   "cell_type": "code",
   "execution_count": 1,
   "id": "0f2cb7f5",
   "metadata": {
    "collapsed": false,
    "execution": {
     "iopub.execute_input": "2021-05-10T18:11:10.615777Z",
     "iopub.status.busy": "2021-05-10T18:11:10.613092Z",
     "iopub.status.idle": "2021-05-10T18:11:10.748182Z",
     "shell.execute_reply": "2021-05-10T18:11:10.747020Z"
    },
    "jupyter": {
     "outputs_hidden": false
    },
    "papermill": {
     "duration": 0.157364,
     "end_time": "2021-05-10T18:11:10.748456",
     "exception": false,
     "start_time": "2021-05-10T18:11:10.591092",
     "status": "completed"
    },
    "tags": []
   },
   "outputs": [
    {
     "ename": "ERROR",
     "evalue": "Error in parse(text = x, srcfile = src): <text>:3:1: unexpected symbol\n2: library(readr\n3: library\n   ^\n",
     "output_type": "error",
     "traceback": [
      "Error in parse(text = x, srcfile = src): <text>:3:1: unexpected symbol\n2: library(readr\n3: library\n   ^\nTraceback:\n"
     ]
    }
   ],
   "source": [
    "library(ggplot2)\n",
    "library(readr\n",
    "library(tm)\n",
    "library(SnowballC)\n",
    "library(RColorBrewer)\n",
    "library(wordcloud)\n",
    "library(biclust)\n",
    "library(cluster)\n",
    "library(igraph)\n",
    "library(fpc)\n",
    "\n",
    "library(gridExtra)\n",
    "library(cowplot)\n",
    "library(reshape2)\n",
    "library(scales)\n",
    "library(NLP)\n",
    "\n",
    "        \n",
    "system(\"ls ../input\")\n",
    "\n",
    "airline = read.csv(\"../input/Tweets.csv\")\n",
    "str(airline)\n",
    "\n",
    "\n",
    "\n",
    "\n"
   ]
  },
  {
   "cell_type": "code",
   "execution_count": 2,
   "id": "3122a6aa",
   "metadata": {
    "collapsed": false,
    "execution": {
     "iopub.execute_input": "2021-05-10T18:11:10.819607Z",
     "iopub.status.busy": "2021-05-10T18:11:10.783552Z",
     "iopub.status.idle": "2021-05-10T18:11:10.857709Z",
     "shell.execute_reply": "2021-05-10T18:11:10.848111Z"
    },
    "jupyter": {
     "outputs_hidden": false
    },
    "papermill": {
     "duration": 0.09215,
     "end_time": "2021-05-10T18:11:10.857952",
     "exception": false,
     "start_time": "2021-05-10T18:11:10.765802",
     "status": "completed"
    },
    "tags": []
   },
   "outputs": [
    {
     "ename": "ERROR",
     "evalue": "Error in table(airline$airline_sentiment): object 'airline' not found\n",
     "output_type": "error",
     "traceback": [
      "Error in table(airline$airline_sentiment): object 'airline' not found\nTraceback:\n",
      "1. as.data.frame(table(airline$airline_sentiment))",
      "2. table(airline$airline_sentiment)"
     ]
    }
   ],
   "source": [
    "\n",
    "# 1.HISTOGRAM PLOT of summary global sentiment\n",
    "\n",
    "overallSentiment = as.data.frame(table(airline$airline_sentiment))\n",
    "colnames(overallSentiment) = c(\"Sentiment\",\"Freq\")\n",
    "\n",
    "histPlot1 = ggplot(overallSentiment) + aes(x=Sentiment, y=Freq, fill=Sentiment) + scale_fill_manual(values=c(\"indianred1\",\"deepskyblue\",\"chartreuse3\"))\n",
    "histPlot1 = histPlot1 + geom_bar(stat=\"identity\")\n",
    "histPlot1\n"
   ]
  },
  {
   "cell_type": "code",
   "execution_count": 3,
   "id": "88bab59f",
   "metadata": {
    "collapsed": false,
    "execution": {
     "iopub.execute_input": "2021-05-10T18:11:10.896192Z",
     "iopub.status.busy": "2021-05-10T18:11:10.894195Z",
     "iopub.status.idle": "2021-05-10T18:11:10.920012Z",
     "shell.execute_reply": "2021-05-10T18:11:10.917851Z"
    },
    "jupyter": {
     "outputs_hidden": false
    },
    "papermill": {
     "duration": 0.0432,
     "end_time": "2021-05-10T18:11:10.920189",
     "exception": false,
     "start_time": "2021-05-10T18:11:10.876989",
     "status": "completed"
    },
    "tags": []
   },
   "outputs": [
    {
     "ename": "ERROR",
     "evalue": "Error in table(airline$airline, airline$airline_sentiment): object 'airline' not found\n",
     "output_type": "error",
     "traceback": [
      "Error in table(airline$airline, airline$airline_sentiment): object 'airline' not found\nTraceback:\n",
      "1. as.data.frame(table(airline$airline, airline$airline_sentiment))",
      "2. table(airline$airline, airline$airline_sentiment)"
     ]
    }
   ],
   "source": [
    "# 2.Histogram plot showing the number of tweets and sentiment each airline\n",
    "\n",
    "airlineSentiment = as.data.frame(table(airline$airline,airline$airline_sentiment))\n",
    "colnames(airlineSentiment) = c(\"Airline\",\"Sentiment\",\"Freq\")\n",
    "\n",
    "colours = c(\"firebrick1\",\"deepskyblue\",\"chartreuse3\")\n",
    "\n",
    "histPlot2 = ggplot(airlineSentiment) + aes(x=Airline,y=Freq,fill=Sentiment) + scale_fill_manual(values=c(\"indianred1\",\"deepskyblue\",\"chartreuse3\"))\n",
    "histPlot2 = histPlot2 + geom_bar(stat=\"identity\") \n",
    "histPlot2"
   ]
  },
  {
   "cell_type": "code",
   "execution_count": 4,
   "id": "49ad5f0d",
   "metadata": {
    "collapsed": false,
    "execution": {
     "iopub.execute_input": "2021-05-10T18:11:10.956078Z",
     "iopub.status.busy": "2021-05-10T18:11:10.953723Z",
     "iopub.status.idle": "2021-05-10T18:11:10.990949Z",
     "shell.execute_reply": "2021-05-10T18:11:10.989085Z"
    },
    "jupyter": {
     "outputs_hidden": false
    },
    "papermill": {
     "duration": 0.056565,
     "end_time": "2021-05-10T18:11:10.991135",
     "exception": false,
     "start_time": "2021-05-10T18:11:10.934570",
     "status": "completed"
    },
    "tags": []
   },
   "outputs": [
    {
     "ename": "ERROR",
     "evalue": "Error in subset(airlineSentiment, Airline == \"American\"): object 'airlineSentiment' not found\n",
     "output_type": "error",
     "traceback": [
      "Error in subset(airlineSentiment, Airline == \"American\"): object 'airlineSentiment' not found\nTraceback:\n",
      "1. subset(airlineSentiment, Airline == \"American\")"
     ]
    }
   ],
   "source": [
    "# 2.1. Individual pie charts for each Airline\n",
    "sentAmerican = subset(airlineSentiment, Airline == \"American\")\n",
    "American = ggplot(sentAmerican) + aes(x=\"American\", y=Freq, fill=Sentiment) +\n",
    "     geom_bar(stat=\"identity\") +\n",
    "     coord_polar(\"y\") +\n",
    "     theme(axis.text.x=element_text(color=\"black\")) +\n",
    "     theme(axis.ticks=element_blank(), axis.title=element_blank(), axis.text.y=element_blank())\n",
    "\n",
    "y.breaks = cumsum(sentAmerican$Freq) - sentAmerican$Freq/2\n",
    "\n",
    "American = American + scale_y_continuous(breaks=y.breaks, labels=sentAmerican$Sentiment) +\n",
    "    ggtitle(\"American\") + theme(plot.title = element_text(face=\"bold\")) + scale_fill_manual(values=c(\"indianred1\",\"deepskyblue\",\"chartreuse3\"))\n",
    "\n",
    "# DELTA AIRLINES \n",
    "sentDelta = subset(airlineSentiment, Airline == \"Delta\")\n",
    "Delta = ggplot(sentDelta) + aes(x=\"Delta\", y=Freq, fill=Sentiment) +\n",
    "  geom_bar(stat=\"identity\") +\n",
    "  coord_polar(\"y\") +\n",
    "  theme(axis.text.x=element_text(color=\"black\")) +\n",
    "  theme(axis.ticks=element_blank(), axis.title=element_blank(), axis.text.y=element_blank())\n",
    "\n",
    "y.breaks = cumsum(sentDelta$Freq) - sentDelta$Freq/2\n",
    "\n",
    "Delta = Delta + scale_y_continuous(breaks=y.breaks, labels=sentDelta$Sentiment) +\n",
    "  ggtitle(\"Delta\") + theme(plot.title = element_text(face=\"bold\")) + scale_fill_manual(values=c(\"indianred1\",\"deepskyblue\",\"chartreuse3\"))\n",
    "\n",
    "# SOUTHWEST AIRLINES  \n",
    "sentSouthwest = subset(airlineSentiment, Airline == \"Southwest\")\n",
    "Southwest = ggplot(sentSouthwest) + aes(x=\"Southwest\", y=Freq, fill=Sentiment) +\n",
    "  geom_bar(stat=\"identity\") +\n",
    "  coord_polar(\"y\") +\n",
    "  theme(axis.text.x=element_text(color=\"black\")) +\n",
    "  theme(axis.ticks=element_blank(), axis.title=element_blank(), axis.text.y=element_blank())\n",
    "\n",
    "y.breaks = cumsum(sentSouthwest$Freq) - sentSouthwest$Freq/2\n",
    "\n",
    "Southwest = Southwest + scale_y_continuous(breaks=y.breaks, labels=sentSouthwest$Sentiment) +\n",
    "  ggtitle(\"Southwest\") + theme(plot.title = element_text(face=\"bold\")) + scale_fill_manual(values=c(\"indianred1\",\"deepskyblue\",\"chartreuse3\"))\n",
    "\n",
    "# UNITED AIRLINES  \n",
    "sentUnited = subset(airlineSentiment, Airline == \"United\")\n",
    "United = ggplot(sentUnited) + aes(x=\"United\", y=Freq, fill=Sentiment) +\n",
    "  geom_bar(stat=\"identity\") +\n",
    "  coord_polar(\"y\") +\n",
    "  theme(axis.text.x=element_text(color=\"black\")) +\n",
    "  theme(axis.ticks=element_blank(), axis.title=element_blank(), axis.text.y=element_blank())\n",
    "\n",
    "y.breaks = cumsum(sentUnited$Freq) - sentUnited$Freq/2\n",
    "\n",
    "United = United + scale_y_continuous(breaks=y.breaks, labels=sentUnited$Sentiment) +\n",
    "  ggtitle(\"United\") + theme(plot.title = element_text(face=\"bold\")) + scale_fill_manual(values=c(\"indianred1\",\"deepskyblue\",\"chartreuse3\"))\n",
    "\n",
    "  # VIRGIN AMERICA \n",
    "sentVAirways = subset(airlineSentiment, Airline == \"Virgin America\")\n",
    "VAirways = ggplot(sentVAirways) + aes(x=\"Virgin America\", y=Freq, fill=Sentiment) +\n",
    "  geom_bar(stat=\"identity\") +\n",
    "  coord_polar(\"y\") +\n",
    "  theme(axis.text.x=element_text(color=\"black\")) +\n",
    "  theme(axis.ticks=element_blank(), axis.title=element_blank(), axis.text.y=element_blank())\n",
    "\n",
    "y.breaks = cumsum(sentVAirways$Freq) - sentVAirways$Freq/2\n",
    "\n",
    "VAirways = VAirways + scale_y_continuous(breaks=y.breaks, labels=sentVAirways$Sentiment) +\n",
    "  ggtitle(\"Virgin America\") + theme(plot.title = element_text(face=\"bold\")) + scale_fill_manual(values=c(\"indianred1\",\"deepskyblue\",\"chartreuse3\"))\n",
    "\n",
    "# US AIRWAYS  \n",
    "sentUSAirways = subset(airlineSentiment, Airline == \"US Airways\")\n",
    "USAirways = ggplot(sentUSAirways) + aes(x=\"US Airways\", y=Freq, fill=Sentiment) +\n",
    "  geom_bar(stat=\"identity\") +\n",
    "  coord_polar(\"y\") +\n",
    "  theme(axis.text.x=element_text(color=\"black\")) +\n",
    "  theme(axis.ticks=element_blank(), axis.title=element_blank(), axis.text.y=element_blank())\n",
    "\n",
    "y.breaks = cumsum(sentUSAirways$Freq) - sentUSAirways$Freq/2\n",
    "\n",
    "USAirways = USAirways + scale_y_continuous(breaks=y.breaks, labels=sentUSAirways$Sentiment) +\n",
    "  ggtitle(\"US Airways\") + theme(plot.title = element_text(face=\"bold\")) + scale_fill_manual(values=c(\"indianred1\",\"deepskyblue\",\"chartreuse3\"))\n",
    "\n",
    "\n",
    "plot_grid(American,Delta,Southwest,United,VAirways,USAirways,ncol=2,nrow=3) "
   ]
  },
  {
   "cell_type": "code",
   "execution_count": 5,
   "id": "43b27066",
   "metadata": {
    "collapsed": false,
    "execution": {
     "iopub.execute_input": "2021-05-10T18:11:11.023826Z",
     "iopub.status.busy": "2021-05-10T18:11:11.021880Z",
     "iopub.status.idle": "2021-05-10T18:11:11.047546Z",
     "shell.execute_reply": "2021-05-10T18:11:11.045851Z"
    },
    "jupyter": {
     "outputs_hidden": false
    },
    "papermill": {
     "duration": 0.043904,
     "end_time": "2021-05-10T18:11:11.047727",
     "exception": false,
     "start_time": "2021-05-10T18:11:11.003823",
     "status": "completed"
    },
    "tags": []
   },
   "outputs": [
    {
     "ename": "ERROR",
     "evalue": "Error in table(airline$negativereason, airline$airline): object 'airline' not found\n",
     "output_type": "error",
     "traceback": [
      "Error in table(airline$negativereason, airline$airline): object 'airline' not found\nTraceback:\n",
      "1. table(airline$negativereason, airline$airline)"
     ]
    }
   ],
   "source": [
    "\n",
    "# 3. Initial Global analysis\n",
    "\n",
    "table(airline$negativereason, airline$airline)\n",
    "\n",
    "globalSentReasons = as.data.frame(table(airline$negativereason, airline$airline))\n",
    "colnames(globalSentReasons) = c(\"Reason\",\"Airline\", \"Freq\")\n",
    "\n",
    "ggplot(globalSentReasons) + aes(y = Freq, x = Reason, group = Airline, colour = Airline) + coord_polar() + geom_point() + geom_path() + labs(x = NULL)\n",
    "\n",
    "\n",
    "#CALCULATE PERCENTAGES\n",
    "aggregate(Freq ~ Airline, globalSentReasons, sum)\n",
    "globalSentReasons$TotalTwAirline = 0\n",
    "globalSentReasons[1:11,4] = 2759\n",
    "globalSentReasons[12:22,4] = 2222\n",
    "globalSentReasons[23:33,4] = 2420\n",
    "globalSentReasons[34:44,4] = 3822\n",
    "globalSentReasons[45:55,4] = 2913\n",
    "globalSentReasons[56:66,4] = 503\n",
    "globalSentReasons$PercentOfTotal = (globalSentReasons[,3]/globalSentReasons[,4])*100\n",
    "\n",
    "ggplot(globalSentReasons) + aes(y = PercentOfTotal, x = Reason, group = Airline, colour = Airline) + coord_polar() + geom_point() + geom_path() + labs(x = NULL)\n"
   ]
  },
  {
   "cell_type": "code",
   "execution_count": 6,
   "id": "2fffed88",
   "metadata": {
    "collapsed": false,
    "execution": {
     "iopub.execute_input": "2021-05-10T18:11:11.083358Z",
     "iopub.status.busy": "2021-05-10T18:11:11.081864Z",
     "iopub.status.idle": "2021-05-10T18:11:11.117671Z",
     "shell.execute_reply": "2021-05-10T18:11:11.116109Z"
    },
    "jupyter": {
     "outputs_hidden": false
    },
    "papermill": {
     "duration": 0.056191,
     "end_time": "2021-05-10T18:11:11.117854",
     "exception": false,
     "start_time": "2021-05-10T18:11:11.061663",
     "status": "completed"
    },
    "tags": []
   },
   "outputs": [
    {
     "ename": "ERROR",
     "evalue": "Error in str(airline): object 'airline' not found\n",
     "output_type": "error",
     "traceback": [
      "Error in str(airline): object 'airline' not found\nTraceback:\n",
      "1. str(airline)"
     ]
    }
   ],
   "source": [
    "# 4. UNDERSTANDING TEXT negative and positive sentiment\n",
    "str(airline)\n",
    "\n",
    "# NEGATIVE SENTIMENT\n",
    "negativeSubset = subset(airline, airlineSentiment == \"negative\")\n",
    "str(negativeSubset)\n",
    "\n",
    "\n",
    "# 4.1. PREPROCESSING THE DATA CREATING THE CORPUS AND CLEANING\n",
    " \n",
    "corpus = Corpus(VectorSource(negativeSubset$text))\n",
    "strwrap(corpus[[8]])\n",
    "corpus <- tm_map(corpus, stripWhitespace)\n",
    "strwrap(corpus[[8]])\n",
    "corpus <- tm_map(corpus, content_transformer(tolower))\n",
    "strwrap(corpus[[8]])\n",
    "\n",
    "# Remove stopwords\n",
    "corpus = tm_map(corpus, removeWords, stopwords(\"english\"))\n",
    "strwrap(corpus[[8]])\n",
    "# Want to get rid of airways names\n",
    "corpus <- tm_map(corpus, function(x) gsub('@', 'KeepAtPunct', x))\n",
    "strwrap(corpus[[8]])\n",
    "corpus = tm_map(corpus, removeWords, c(\"KeepAtPunctvirginamerica\",\"KeepAtPunctusairways\",\"KeepAtPunctunited\",\"KeepAtPunctsouthwestair\",\"KeepAtPunctjetblue\",\"KeepAtPunctamericanair\"))\n",
    "strwrap(corpus[[8]])\n",
    "\n",
    "corpus <- tm_map(corpus, function(x) gsub('#', 'KeepHashPunct', x))\n",
    "strwrap(corpus[[8]])\n",
    "\n",
    "# Remove remaining punctuation\n",
    "corpus <- tm_map(corpus, removePunctuation)\n",
    "strwrap(corpus[[8]])\n",
    "\n",
    "\n",
    "# Revert replacements\n",
    "corpus <- tm_map(corpus, function(x) gsub('KeepAtPunct', '@', x))\n",
    "corpus <- tm_map(corpus, function(x) gsub('KeepHashPunct', '#', x))\n",
    "strwrap(corpus[[8]])\n",
    "\n",
    "# Remove all http links\n",
    "corpus <- tm_map(corpus, function(x) gsub('http[[:alnum:]]*', '', x))\n",
    "strwrap(corpus[[8]])\n",
    "\n",
    "# 4.2. Create matrix\n",
    "dtm = DocumentTermMatrix(corpus)\n",
    "dtm"
   ]
  },
  {
   "cell_type": "code",
   "execution_count": 7,
   "id": "547286c1",
   "metadata": {
    "collapsed": false,
    "execution": {
     "iopub.execute_input": "2021-05-10T18:11:11.154120Z",
     "iopub.status.busy": "2021-05-10T18:11:11.152450Z",
     "iopub.status.idle": "2021-05-10T18:11:11.173199Z",
     "shell.execute_reply": "2021-05-10T18:11:11.171543Z"
    },
    "jupyter": {
     "outputs_hidden": false
    },
    "papermill": {
     "duration": 0.040861,
     "end_time": "2021-05-10T18:11:11.173383",
     "exception": false,
     "start_time": "2021-05-10T18:11:11.132522",
     "status": "completed"
    },
    "tags": []
   },
   "outputs": [
    {
     "ename": "ERROR",
     "evalue": "Error in as.matrix(dtm): object 'dtm' not found\n",
     "output_type": "error",
     "traceback": [
      "Error in as.matrix(dtm): object 'dtm' not found\nTraceback:\n",
      "1. colSums(as.matrix(dtm))",
      "2. is.data.frame(x)",
      "3. as.matrix(dtm)"
     ]
    }
   ],
   "source": [
    "# 4.3. DESCRIPTIVE ANALYTICS\n",
    "\n",
    "freq = colSums(as.matrix(dtm)) \n",
    "ord = order(freq)\n",
    "\n",
    "wf = data.frame(word=names(freq), freq=freq)   \n",
    "\n",
    "p = ggplot(subset(wf, freq>50), aes(word, freq, fill = freq))    \n",
    "p = p + geom_bar(stat=\"identity\", show.legend = TRUE)   \n",
    "p = p + theme(axis.text.x=element_text(angle=45, hjust=1, size = rel(1)))   \n",
    "p "
   ]
  },
  {
   "cell_type": "code",
   "execution_count": 8,
   "id": "d6fb265c",
   "metadata": {
    "collapsed": false,
    "execution": {
     "iopub.execute_input": "2021-05-10T18:11:11.208362Z",
     "iopub.status.busy": "2021-05-10T18:11:11.206627Z",
     "iopub.status.idle": "2021-05-10T18:11:11.225377Z",
     "shell.execute_reply": "2021-05-10T18:11:11.223795Z"
    },
    "jupyter": {
     "outputs_hidden": false
    },
    "papermill": {
     "duration": 0.037929,
     "end_time": "2021-05-10T18:11:11.225554",
     "exception": false,
     "start_time": "2021-05-10T18:11:11.187625",
     "status": "completed"
    },
    "tags": []
   },
   "outputs": [
    {
     "ename": "ERROR",
     "evalue": "Error in as.matrix(dtm): object 'dtm' not found\n",
     "output_type": "error",
     "traceback": [
      "Error in as.matrix(dtm): object 'dtm' not found\nTraceback:\n",
      "1. as.data.frame(as.matrix(dtm))",
      "2. as.matrix(dtm)"
     ]
    }
   ],
   "source": [
    "# 4.4. CONVERTING TO DATA FRAME\n",
    "tweets = as.data.frame(as.matrix(dtm))\n",
    "colnames(tweets) = make.names(colnames(tweets))\n",
    "tweets$airline_sentiment = negativeSubset$airline_sentiment\n"
   ]
  },
  {
   "cell_type": "code",
   "execution_count": 9,
   "id": "d251d142",
   "metadata": {
    "collapsed": false,
    "execution": {
     "iopub.execute_input": "2021-05-10T18:11:11.261427Z",
     "iopub.status.busy": "2021-05-10T18:11:11.259690Z",
     "iopub.status.idle": "2021-05-10T18:11:11.279758Z",
     "shell.execute_reply": "2021-05-10T18:11:11.278337Z"
    },
    "jupyter": {
     "outputs_hidden": false
    },
    "papermill": {
     "duration": 0.039251,
     "end_time": "2021-05-10T18:11:11.279921",
     "exception": false,
     "start_time": "2021-05-10T18:11:11.240670",
     "status": "completed"
    },
    "tags": []
   },
   "outputs": [
    {
     "ename": "ERROR",
     "evalue": "Error in removeSparseTerms(dtm, 0.97): could not find function \"removeSparseTerms\"\n",
     "output_type": "error",
     "traceback": [
      "Error in removeSparseTerms(dtm, 0.97): could not find function \"removeSparseTerms\"\nTraceback:\n"
     ]
    }
   ],
   "source": [
    "# 4.5. HIERARCHICAL CLUSTERING\n",
    "\n",
    "sparse = removeSparseTerms(dtm, 0.97)\n",
    "sparse\n",
    "\n",
    "library(cluster)\n",
    "d <- dist(t(sparse), method = \"euclidian\")\n",
    "fit <- hclust(d=d, method=\"ward.D\")\n",
    "fit\n",
    "plot(fit, hang=-1)\n",
    "groups <- cutree(fit, k=5)   \n",
    "rect.hclust(fit, k=5, border=\"red\")"
   ]
  },
  {
   "cell_type": "code",
   "execution_count": 10,
   "id": "85a5df31",
   "metadata": {
    "collapsed": false,
    "execution": {
     "iopub.execute_input": "2021-05-10T18:11:11.316349Z",
     "iopub.status.busy": "2021-05-10T18:11:11.314599Z",
     "iopub.status.idle": "2021-05-10T18:11:11.349202Z",
     "shell.execute_reply": "2021-05-10T18:11:11.347790Z"
    },
    "jupyter": {
     "outputs_hidden": false
    },
    "papermill": {
     "duration": 0.054341,
     "end_time": "2021-05-10T18:11:11.349391",
     "exception": false,
     "start_time": "2021-05-10T18:11:11.295050",
     "status": "completed"
    },
    "tags": []
   },
   "outputs": [
    {
     "ename": "ERROR",
     "evalue": "Error in subset(airline, airlineSentiment == \"positive\"): object 'airline' not found\n",
     "output_type": "error",
     "traceback": [
      "Error in subset(airline, airlineSentiment == \"positive\"): object 'airline' not found\nTraceback:\n",
      "1. subset(airline, airlineSentiment == \"positive\")"
     ]
    }
   ],
   "source": [
    "# POSITIVE SENTIMENT\n",
    "\n",
    "positiveSubset = subset(airline, airlineSentiment == \"positive\")\n",
    "str(positiveSubset)\n",
    "\n",
    "# 4.1. PRE-PROCESSING THE DATA - CREATING THE CORPUS AND CLEANING\n",
    "\n",
    "corpus = Corpus(VectorSource(positiveSubset$text))\n",
    "strwrap(corpus[[8]])\n",
    "corpus <- tm_map(corpus, stripWhitespace)\n",
    "strwrap(corpus[[8]])\n",
    "corpus <- tm_map(corpus, content_transformer(tolower))\n",
    "strwrap(corpus[[8]])\n",
    "\n",
    "# Remove stopwords\n",
    "corpus = tm_map(corpus, removeWords, stopwords(\"english\"))\n",
    "strwrap(corpus[[8]])\n",
    "# Want to get rid of airways names\n",
    "corpus <- tm_map(corpus, function(x) gsub('@', 'KeepAtPunct', x))\n",
    "strwrap(corpus[[8]])\n",
    "corpus = tm_map(corpus, removeWords, c(\"KeepAtPunctvirginamerica\",\"KeepAtPunctusairways\",\"KeepAtPunctunited\",\"KeepAtPunctsouthwestair\",\"KeepAtPunctjetblue\",\"KeepAtPunctamericanair\"))\n",
    "strwrap(corpus[[8]])\n",
    "\n",
    "\n",
    "corpus <- tm_map(corpus, function(x) gsub('#', 'KeepHashPunct', x))\n",
    "strwrap(corpus[[8]])\n",
    "\n",
    "# Remove remaining punctuation\n",
    "corpus <- tm_map(corpus, removePunctuation)\n",
    "strwrap(corpus[[8]])\n",
    "\n",
    "\n",
    "# Revert replacements\n",
    "corpus <- tm_map(corpus, function(x) gsub('KeepAtPunct', '@', x))\n",
    "corpus <- tm_map(corpus, function(x) gsub('KeepHashPunct', '#', x))\n",
    "strwrap(corpus[[8]])\n",
    "\n",
    "# Remove all http links\n",
    "corpus <- tm_map(corpus, function(x) gsub('http[[:alnum:]]*', '', x))\n",
    "strwrap(corpus[[8]])\n",
    "\n",
    "\n",
    "# 4.2. Create matrix\n",
    "dtm = DocumentTermMatrix(corpus)\n",
    "dtm"
   ]
  },
  {
   "cell_type": "code",
   "execution_count": 11,
   "id": "99320f4e",
   "metadata": {
    "collapsed": false,
    "execution": {
     "iopub.execute_input": "2021-05-10T18:11:11.387846Z",
     "iopub.status.busy": "2021-05-10T18:11:11.385886Z",
     "iopub.status.idle": "2021-05-10T18:11:11.408069Z",
     "shell.execute_reply": "2021-05-10T18:11:11.406045Z"
    },
    "jupyter": {
     "outputs_hidden": false
    },
    "papermill": {
     "duration": 0.042932,
     "end_time": "2021-05-10T18:11:11.408264",
     "exception": false,
     "start_time": "2021-05-10T18:11:11.365332",
     "status": "completed"
    },
    "tags": []
   },
   "outputs": [
    {
     "ename": "ERROR",
     "evalue": "Error in as.matrix(dtm): object 'dtm' not found\n",
     "output_type": "error",
     "traceback": [
      "Error in as.matrix(dtm): object 'dtm' not found\nTraceback:\n",
      "1. colSums(as.matrix(dtm))",
      "2. is.data.frame(x)",
      "3. as.matrix(dtm)"
     ]
    }
   ],
   "source": [
    "# 4.3. DESCRIPTIVE ANALYTICS\n",
    "\n",
    "freq = colSums(as.matrix(dtm)) \n",
    "ord = order(freq)\n",
    "\n",
    "wf = data.frame(word=names(freq), freq=freq)   \n",
    "\n",
    "p = ggplot(subset(wf, freq>50), aes(word, freq, fill = freq))    \n",
    "p = p + geom_bar(stat=\"identity\", show.legend = TRUE)   \n",
    "p = p + theme(axis.text.x=element_text(angle=45, hjust=1, size = rel(1)))   \n",
    "p \n"
   ]
  },
  {
   "cell_type": "code",
   "execution_count": 12,
   "id": "208945ab",
   "metadata": {
    "collapsed": false,
    "execution": {
     "iopub.execute_input": "2021-05-10T18:11:11.448667Z",
     "iopub.status.busy": "2021-05-10T18:11:11.446683Z",
     "iopub.status.idle": "2021-05-10T18:11:11.465892Z",
     "shell.execute_reply": "2021-05-10T18:11:11.464149Z"
    },
    "jupyter": {
     "outputs_hidden": false
    },
    "papermill": {
     "duration": 0.040988,
     "end_time": "2021-05-10T18:11:11.466066",
     "exception": false,
     "start_time": "2021-05-10T18:11:11.425078",
     "status": "completed"
    },
    "tags": []
   },
   "outputs": [
    {
     "ename": "ERROR",
     "evalue": "Error in as.matrix(dtm): object 'dtm' not found\n",
     "output_type": "error",
     "traceback": [
      "Error in as.matrix(dtm): object 'dtm' not found\nTraceback:\n",
      "1. as.data.frame(as.matrix(dtm))",
      "2. as.matrix(dtm)"
     ]
    }
   ],
   "source": [
    "# 4.4. CONVERTING TO DATA FRAME\n",
    "\n",
    "tweets = as.data.frame(as.matrix(dtm))\n",
    "colnames(tweets) = make.names(colnames(tweets))\n",
    "tweets$airline_sentiment = negativeSubset$airline_sentiment\n",
    "#str(tweets)"
   ]
  },
  {
   "cell_type": "code",
   "execution_count": 13,
   "id": "cf8cf097",
   "metadata": {
    "collapsed": false,
    "execution": {
     "iopub.execute_input": "2021-05-10T18:11:11.508633Z",
     "iopub.status.busy": "2021-05-10T18:11:11.506198Z",
     "iopub.status.idle": "2021-05-10T18:11:11.528410Z",
     "shell.execute_reply": "2021-05-10T18:11:11.526659Z"
    },
    "jupyter": {
     "outputs_hidden": false
    },
    "papermill": {
     "duration": 0.044242,
     "end_time": "2021-05-10T18:11:11.528580",
     "exception": false,
     "start_time": "2021-05-10T18:11:11.484338",
     "status": "completed"
    },
    "tags": []
   },
   "outputs": [
    {
     "ename": "ERROR",
     "evalue": "Error in removeSparseTerms(dtm, 0.97): could not find function \"removeSparseTerms\"\n",
     "output_type": "error",
     "traceback": [
      "Error in removeSparseTerms(dtm, 0.97): could not find function \"removeSparseTerms\"\nTraceback:\n"
     ]
    }
   ],
   "source": [
    "# 4.5. HIERARCHICAL CLUSTERING\n",
    "\n",
    "sparse = removeSparseTerms(dtm, 0.97)\n",
    "sparse\n",
    "\n",
    "library(cluster)\n",
    "d <- dist(t(sparse), method = \"euclidian\")\n",
    "fit <- hclust(d=d, method=\"ward.D\")\n",
    "fit\n",
    "plot(fit, hang=-1)\n",
    "groups <- cutree(fit, k=3)   \n",
    "rect.hclust(fit, k=3, border=\"green\")"
   ]
  }
 ],
 "metadata": {
  "kernelspec": {
   "display_name": "R",
   "language": "R",
   "name": "ir"
  },
  "language_info": {
   "codemirror_mode": "r",
   "file_extension": ".r",
   "mimetype": "text/x-r-source",
   "name": "R",
   "pygments_lexer": "r",
   "version": "3.6.3"
  },
  "papermill": {
   "default_parameters": {},
   "duration": 4.098335,
   "end_time": "2021-05-10T18:11:11.658509",
   "environment_variables": {},
   "exception": null,
   "input_path": "__notebook__.ipynb",
   "output_path": "__notebook__.ipynb",
   "parameters": {},
   "start_time": "2021-05-10T18:11:07.560174",
   "version": "2.3.3"
  }
 },
 "nbformat": 4,
 "nbformat_minor": 5
}
